{
  "nbformat": 4,
  "nbformat_minor": 0,
  "metadata": {
    "colab": {
      "provenance": [],
      "authorship_tag": "ABX9TyNvKjsfdYKJvxXVZPSi2Bat",
      "include_colab_link": true
    },
    "kernelspec": {
      "name": "python3",
      "display_name": "Python 3"
    },
    "language_info": {
      "name": "python"
    }
  },
  "cells": [
    {
      "cell_type": "markdown",
      "metadata": {
        "id": "view-in-github",
        "colab_type": "text"
      },
      "source": [
        "<a href=\"https://colab.research.google.com/github/P-Lage/P-Lage/blob/main/Git%26Github.ipynb\" target=\"_parent\"><img src=\"https://colab.research.google.com/assets/colab-badge.svg\" alt=\"Open In Colab\"/></a>"
      ]
    },
    {
      "cell_type": "markdown",
      "source": [
        "# Tópico 1: Repositórios"
      ],
      "metadata": {
        "id": "wL9CsKvegXyZ"
      }
    },
    {
      "cell_type": "markdown",
      "source": [
        "## Conceitos Fundamentais\n",
        "\n",
        "1. **Branch**: Uma versão paralela do código que está contida dentro do repositório, mas não afeta a ramificação primária ou principal.\n",
        "2. **Clone**: Baixar uma cópia completa dos dados de um repositório de GitHub.com, incluindo todas as versões de cada arquivo e pasta.\n",
        "3. **Fork**: Um novo repositório que compartilha configurações de código e visibilidade com o repositório \"upstream\" original.\n",
        "4. **Mesclar**: Pegar as alterações de um branch e aplicá-las à outra.\n",
        "5. **Solicitação de Pull**: Uma solicitação para mesclar as alterações de um branch em outro.\n",
        "6. **Remoto**: Um repositório armazenado no GitHub, não no seu computador.\n",
        "7. **Upstream**: O branch em um repositório original em que foi criado um fork ou clonado. O branch correspondente no repositório clonado ou em que o fork foi criado é chamado de \"downstream\"."
      ],
      "metadata": {
        "id": "suHbuFLTmks5"
      }
    },
    {
      "cell_type": "markdown",
      "source": [
        "## Sobre Issues\n",
        "\n",
        "Issues consistem em problemas criados para levantar planejamentos e discussões, como por exemplo: relatórios de bugs, novos recursos e ideias.\n",
        "\n",
        "Ver [Como criar um problema](https://docs.github.com/pt/issues/tracking-your-work-with-issues/using-issues/creating-an-issue)."
      ],
      "metadata": {
        "id": "px5CQ0zvnei3"
      }
    },
    {
      "cell_type": "markdown",
      "source": [
        "## Sobre Sub-Issues\n",
        "\n",
        "Sub-Issues consistem em dividir problemas existentes em partes menores organizadas em uma hierarquia com relação ao problema \"maior\".\n",
        "\n",
        "Ver [Como criar um subproblema](https://docs.github.com/pt/issues/tracking-your-work-with-issues/using-issues/adding-sub-issues)."
      ],
      "metadata": {
        "id": "WWDMQUX3o2uz"
      }
    },
    {
      "cell_type": "markdown",
      "source": [
        "## Sobre Discussions\n",
        "\n",
        "O GitHub Discussions consiste em uma discussão aberta sobre o repositório com o público que tem acesso ao mesmo.\n",
        "\n",
        "Ver [Como criar discussões](https://docs.github.com/pt/discussions/collaborating-with-your-community-using-discussions/about-discussions)."
      ],
      "metadata": {
        "id": "Y9Rj_tn2pfhO"
      }
    },
    {
      "cell_type": "markdown",
      "source": [
        "## Sobre Pull-Requests\n",
        "\n",
        "Pull-Request consiste em uma proposta para implementar a alteração feita em uma branch à outra. Dentro dessa proposta os colaboradores podem ponderar sobre o seu conteúdo exibindo as diferenças entre ele e o conteúdo da branch de destino.\n",
        "\n",
        "Ver [Como criar solicitação de pull](https://docs.github.com/pt/pull-requests/collaborating-with-pull-requests/proposing-changes-to-your-work-with-pull-requests/about-pull-requests)."
      ],
      "metadata": {
        "id": "2ift36s5p9cn"
      }
    },
    {
      "cell_type": "markdown",
      "source": [
        "## Sobre Projects\n",
        "\n",
        "Projects consistem em projetos que contém ferramentas, como roteiros, quadro de tarefas e planilhas integradas aos Issues e Pull-Requests. Tendo em vista o acompanhamento do trabalho com eficiência.\n",
        "\n",
        "Ver [Como criar projetos](https://docs.github.com/pt/issues/planning-and-tracking-with-projects/learning-about-projects/about-projects)."
      ],
      "metadata": {
        "id": "BjejfkgbrH56"
      }
    },
    {
      "cell_type": "markdown",
      "source": [
        "## Sobre Práticas Recomendadas\n",
        "\n",
        "Algumas boas práticas são recomendadas para manter um uso eficaz dos repositórios, são algumas delas: criar um arquivo ReadMe, criar Branchs paralelas e protegidas e usar o Git Large File Storage para admnistrar os arquivos grandes presentes nos repositórios.\n",
        "\n",
        "Ver [Como manter boas práticas](https://docs.github.com/pt/repositories/creating-and-managing-repositories/best-practices-for-repositories)."
      ],
      "metadata": {
        "id": "SKkvntSjsCtI"
      }
    }
  ]
}